{
 "cells": [
  {
   "cell_type": "markdown",
   "metadata": {},
   "source": [
    "# Filtering Stop Words in NLTK"
   ]
  },
  {
   "cell_type": "code",
   "execution_count": 1,
   "metadata": {},
   "outputs": [
    {
     "name": "stdout",
     "output_type": "stream",
     "text": [
      "{\"you've\", 'the', 'under', 'herself', 'didn', 'myself', 'i', 'who', 'here', 'nor', 'up', \"you'll\", 've', 'his', 'off', 'so', 'too', 'they', \"didn't\", 'any', 're', \"it's\", 'had', 'because', 'which', \"needn't\", 'been', \"hasn't\", \"doesn't\", 'yours', 'than', 'where', 'shan', 'haven', \"wasn't\", 'weren', 'in', 'below', \"weren't\", \"won't\", 'then', 'of', 'there', 'her', 'over', 'ours', 'don', 'hadn', 'shouldn', 'o', 'that', \"aren't\", 'what', 'mustn', 'no', \"isn't\", 'you', 'during', 'theirs', 'or', 'at', 'above', 'll', 'such', 'couldn', \"wouldn't\", 'has', 'not', 'by', 'needn', 'wouldn', 'aren', 'hers', \"shan't\", 'through', \"she's\", 'out', 'him', 'doing', 'this', 'my', 'both', 'being', \"haven't\", 'down', 'wasn', 'against', 'but', 'between', 'were', 'your', 'from', 'only', \"you'd\", 'himself', 'she', 'can', 'on', 'its', \"that'll\", 'themselves', 'are', 'be', 'did', 'when', 'same', 'their', 'doesn', \"shouldn't\", 'them', 'whom', 'm', 'each', 'mightn', 'does', 'y', 'few', 'isn', 'before', 'those', 'after', 'while', 'further', 't', 'how', 'as', 'more', \"should've\", \"mightn't\", 'now', 'other', 'he', 'won', 'we', 's', 'to', 'am', 'is', 'have', 'for', 'into', 'should', 'will', 'with', 'an', 'most', 'all', 'it', \"hadn't\", 'do', \"mustn't\", 'yourselves', 'yourself', 'was', 'ain', 'a', 'and', 'me', 'about', \"you're\", 'these', 'very', 'having', 'our', 'itself', \"couldn't\", 'hasn', 'why', 'just', 'own', 'again', 'if', 'once', 'ma', 'some', 'until', 'ourselves', 'd', \"don't\"}\n"
     ]
    }
   ],
   "source": [
    "# imports\n",
    "import nltk\n",
    "english_stopwords = set(nltk.corpus.stopwords.words('english'))\n",
    "print (english_stopwords)\n"
   ]
  },
  {
   "cell_type": "code",
   "execution_count": 4,
   "metadata": {},
   "outputs": [
    {
     "name": "stdout",
     "output_type": "stream",
     "text": [
      "['chicken', 'went', 'house', 'humilate', 'man', '.']\n",
      "['The', 'to', 'the', 'to', 'the']\n"
     ]
    }
   ],
   "source": [
    "from nltk.tokenize import word_tokenize\n",
    "text = \"The chicken went to the house to humilate the man.\"\n",
    "tokens = word_tokenize(text)\n",
    "content_tokens = [token for token in tokens if token.lower() not in english_stopwords]\n",
    "content_stop_words = [token for token in tokens if token.lower() in english_stopwords]\n",
    "print (content_tokens)\n",
    "print (content_stop_words)"
   ]
  },
  {
   "cell_type": "code",
   "execution_count": null,
   "metadata": {},
   "outputs": [],
   "source": []
  }
 ],
 "metadata": {
  "kernelspec": {
   "display_name": "Python 3",
   "language": "python",
   "name": "python3"
  },
  "language_info": {
   "codemirror_mode": {
    "name": "ipython",
    "version": 3
   },
   "file_extension": ".py",
   "mimetype": "text/x-python",
   "name": "python",
   "nbconvert_exporter": "python",
   "pygments_lexer": "ipython3",
   "version": "3.11.7"
  }
 },
 "nbformat": 4,
 "nbformat_minor": 2
}
