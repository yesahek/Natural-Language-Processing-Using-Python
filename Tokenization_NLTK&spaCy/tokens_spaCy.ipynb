{
 "cells": [
  {
   "cell_type": "markdown",
   "metadata": {},
   "source": [
    "# Tokenization in spaCy"
   ]
  },
  {
   "cell_type": "code",
   "execution_count": 3,
   "metadata": {},
   "outputs": [],
   "source": [
    "# Tokenization in spaCy\n",
    "# import\n",
    "import spacy\n",
    "parser =  spacy.load(\"en_core_web_sm\")"
   ]
  },
  {
   "cell_type": "code",
   "execution_count": 4,
   "metadata": {},
   "outputs": [
    {
     "name": "stdout",
     "output_type": "stream",
     "text": [
      "['The', 'chicken', 'danced', 'because', 'she', 'loved', 'disco', '.']\n"
     ]
    }
   ],
   "source": [
    "text1 = \"The chicken danced because she loved disco.\"\n",
    "tokens = parser(text1)\n",
    "tokens = [token.orth_ for token in tokens if not token.orth_.isspace()]\n",
    "print (tokens)\n"
   ]
  },
  {
   "cell_type": "code",
   "execution_count": 5,
   "metadata": {},
   "outputs": [
    {
     "name": "stdout",
     "output_type": "stream",
     "text": [
      "['Mr.', 'Smith', 'loves', 'tacos', '.', 'He', 'has', 'a', 'Ph.D.', 'in', 'tacology', '.']\n"
     ]
    }
   ],
   "source": [
    "text2 = \"Mr. Smith loves tacos. He has a Ph.D. in tacology.\"\n",
    "tokens = parser(text2)\n",
    "tokens = [token.orth_ for token in tokens if not token.orth_.isspace()]\n",
    "print (tokens)"
   ]
  },
  {
   "cell_type": "code",
   "execution_count": 6,
   "metadata": {},
   "outputs": [],
   "source": [
    "def print_token(token):\n",
    "    print(\"=========================\")\n",
    "    print(\"Value:\", token.orth_)\n",
    "    print(\"Lemma:\", token.lemma_)\n",
    "    print(\"shape:\",token.shape_)"
   ]
  },
  {
   "cell_type": "code",
   "execution_count": 7,
   "metadata": {},
   "outputs": [
    {
     "name": "stdout",
     "output_type": "stream",
     "text": [
      "=========================\n",
      "Value: He\n",
      "Lemma: he\n",
      "shape: Xx\n",
      "=========================\n",
      "Value: run\n",
      "Lemma: run\n",
      "shape: xxx\n",
      "=========================\n",
      "Value: to\n",
      "Lemma: to\n",
      "shape: xx\n",
      "=========================\n",
      "Value: the\n",
      "Lemma: the\n",
      "shape: xxx\n",
      "=========================\n",
      "Value: store\n",
      "Lemma: store\n",
      "shape: xxxx\n",
      "=========================\n",
      "Value: because\n",
      "Lemma: because\n",
      "shape: xxxx\n",
      "=========================\n",
      "Value: he\n",
      "Lemma: he\n",
      "shape: xx\n",
      "=========================\n",
      "Value: was\n",
      "Lemma: be\n",
      "shape: xxx\n",
      "=========================\n",
      "Value: king\n",
      "Lemma: king\n",
      "shape: xxxx\n",
      "=========================\n",
      "Value: of\n",
      "Lemma: of\n",
      "shape: xx\n",
      "=========================\n",
      "Value: apes\n",
      "Lemma: ape\n",
      "shape: xxxx\n",
      "=========================\n",
      "Value: .\n",
      "Lemma: .\n",
      "shape: .\n"
     ]
    }
   ],
   "source": [
    "text3 = \"He run to the store because he was king of apes.\"\n",
    "tokens = parser(text3)\n",
    "for token in tokens:\n",
    "    print_token(token)\n",
    "    "
   ]
  },
  {
   "cell_type": "code",
   "execution_count": null,
   "metadata": {},
   "outputs": [],
   "source": []
  }
 ],
 "metadata": {
  "kernelspec": {
   "display_name": "Python 3",
   "language": "python",
   "name": "python3"
  },
  "language_info": {
   "codemirror_mode": {
    "name": "ipython",
    "version": 3
   },
   "file_extension": ".py",
   "mimetype": "text/x-python",
   "name": "python",
   "nbconvert_exporter": "python",
   "pygments_lexer": "ipython3",
   "version": "3.11.7"
  }
 },
 "nbformat": 4,
 "nbformat_minor": 2
}
