{
 "cells": [
  {
   "cell_type": "code",
   "execution_count": 3,
   "metadata": {},
   "outputs": [],
   "source": [
    "import spacy\n",
    "parser = spacy.load(\"en_core_web_sm\")"
   ]
  },
  {
   "cell_type": "code",
   "execution_count": 14,
   "metadata": {},
   "outputs": [],
   "source": [
    "# defining function thats show entities\n",
    "def show_ents(text):\n",
    "\n",
    "    print (\"Showing by token .....\")\n",
    "    parsed = parser(text)\n",
    "    for token in parsed:\n",
    "        print ( token.orth_, token.ent_type_)\n",
    "    print()\n",
    "    \n",
    "    print (\"Just showing the entities ....\")\n",
    "    entities = list(parsed.ents)\n",
    "    for entity in entities:\n",
    "        print(entity.label_ ,' '.join(t.orth_ for t in entity))"
   ]
  },
  {
   "cell_type": "code",
   "execution_count": 15,
   "metadata": {},
   "outputs": [
    {
     "name": "stdout",
     "output_type": "stream",
     "text": [
      "Showing by token .....\n",
      "I \n",
      "went \n",
      "to \n",
      "New GPE\n",
      "York GPE\n",
      "City GPE\n",
      "and \n",
      "spoke \n",
      "in \n",
      "French LANGUAGE\n",
      ". \n",
      "\n",
      "Just showing the entities ....\n",
      "GPE New York City\n",
      "LANGUAGE French\n"
     ]
    }
   ],
   "source": [
    "show_ents(\"I went to New York City and spoke in French.\")"
   ]
  },
  {
   "cell_type": "code",
   "execution_count": 16,
   "metadata": {},
   "outputs": [
    {
     "name": "stdout",
     "output_type": "stream",
     "text": [
      "Showing by token .....\n",
      "I \n",
      "spoke \n",
      "German NORP\n",
      "at \n",
      "Mt. LOC\n",
      "Everst LOC\n",
      ". \n",
      "\n",
      "Just showing the entities ....\n",
      "NORP German\n",
      "LOC Mt. Everst\n"
     ]
    }
   ],
   "source": [
    "#German is not listed as a language, but a group\n",
    "show_ents(\"I spoke German at Mt. Everst.\")"
   ]
  },
  {
   "cell_type": "code",
   "execution_count": 17,
   "metadata": {},
   "outputs": [
    {
     "name": "stdout",
     "output_type": "stream",
     "text": [
      "Showing by token .....\n",
      "I \n",
      "paid \n",
      "$ \n",
      "50 MONEY\n",
      "and \n",
      "50 \n",
      "dollars \n",
      "on \n",
      "March DATE\n",
      "12 DATE\n",
      ", DATE\n",
      "2016 DATE\n",
      "\n",
      "Just showing the entities ....\n",
      "MONEY 50\n",
      "DATE March 12 , 2016\n"
     ]
    }
   ],
   "source": [
    "# Example 3\n",
    "show_ents(\"I paid $50 and 50 dollars on March 12, 2016\")"
   ]
  },
  {
   "cell_type": "code",
   "execution_count": 18,
   "metadata": {},
   "outputs": [],
   "source": [
    "# I O B format\n",
    "def show_ent_IOB(text):\n",
    "    parsed = parser(text)\n",
    "    for token in parsed:\n",
    "        print(token.orth_, token.ent_type_, token.ent_iob_)"
   ]
  },
  {
   "cell_type": "code",
   "execution_count": 21,
   "metadata": {},
   "outputs": [
    {
     "name": "stdout",
     "output_type": "stream",
     "text": [
      "I  O\n",
      "went  O\n",
      "to  O\n",
      "New NORP B\n",
      "Orieans NORP I\n",
      "to  O\n",
      "speak  O\n",
      "Franch LOC B\n",
      ".  O\n"
     ]
    }
   ],
   "source": [
    "show_ent_IOB(\"I went to New Orieans to speak Franch. \")"
   ]
  },
  {
   "cell_type": "code",
   "execution_count": null,
   "metadata": {},
   "outputs": [],
   "source": []
  }
 ],
 "metadata": {
  "kernelspec": {
   "display_name": "Python 3",
   "language": "python",
   "name": "python3"
  },
  "language_info": {
   "codemirror_mode": {
    "name": "ipython",
    "version": 3
   },
   "file_extension": ".py",
   "mimetype": "text/x-python",
   "name": "python",
   "nbconvert_exporter": "python",
   "pygments_lexer": "ipython3",
   "version": "3.11.7"
  }
 },
 "nbformat": 4,
 "nbformat_minor": 2
}
